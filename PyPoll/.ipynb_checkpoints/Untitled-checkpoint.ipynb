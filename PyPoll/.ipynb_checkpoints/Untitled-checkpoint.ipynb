{
 "cells": [
  {
   "cell_type": "code",
   "execution_count": 8,
   "metadata": {},
   "outputs": [],
   "source": [
    "import os\n",
    "import csv"
   ]
  },
  {
   "cell_type": "code",
   "execution_count": 9,
   "metadata": {},
   "outputs": [],
   "source": [
    "csvpath = os.path.join('..','python-challenge-resources','election_data.csv')"
   ]
  },
  {
   "cell_type": "code",
   "execution_count": 19,
   "metadata": {},
   "outputs": [
    {
     "name": "stdout",
     "output_type": "stream",
     "text": [
      "Khan: 63.000% 2218231\n",
      "Correy: 20.000% 704200\n",
      "Li: 14.000% 492940\n",
      "O'Tooley: 3.000% 105630\n"
     ]
    }
   ],
   "source": [
    "with open(csvpath, newline =\"\") as csvfile:\n",
    "    csvreader = csv.reader(csvfile,delimiter=\",\")\n",
    "    csv_header = next(csvreader)\n",
    "    total_votes = 0\n",
    "    candidate_dict = {}\n",
    "    for row in csvreader:\n",
    "        total_votes = total_votes + 1\n",
    "        if row[2] not in candidate_dict:\n",
    "            candidate_dict[row[2]] = 1\n",
    "        else:\n",
    "            candidate_dict[row[2]] = candidate_dict[row[2]] + 1\n",
    "            \n",
    "    for candidate in candidate_dict:\n",
    "        print(f\"{candidate}: {round((candidate_dict[candidate]/total_votes)*100,2)}00% {candidate_dict[candidate]}\")\n"
   ]
  },
  {
   "cell_type": "code",
   "execution_count": 192,
   "metadata": {},
   "outputs": [
    {
     "name": "stdout",
     "output_type": "stream",
     "text": [
      "Financial Analysis\n",
      "-------------------------------\n",
      "Total Months: 86\n",
      "Total: 38382578\n",
      "Average Change: -2315.12\n",
      "Greatest Increse in Profits:Feb-2012  ($1926159)\n",
      "Greatest Decrese in Profits:Sep-2013 ($-2196167)\n"
     ]
    }
   ],
   "source": [
    "def output():\n",
    "    print(\"Financial Analysis\")\n",
    "    print(\"-------------------------------\")\n",
    "    print(f\"Total Months: {total_months}\")\n",
    "    print(f\"Total: {total_amount}\")\n",
    "    print(f\"Average Change: {round(total_change/(total_months-1),2)}\")\n",
    "    print(f\"Greatest Increse in Profits:{greatest_increase_month}  (${greatest_increase})\")\n",
    "    print(f\"Greatest Decrese in Profits:{greatest_decrease_month} (${greatest_decrease})\")\n",
    "analysis = output()\n",
    "analysis"
   ]
  },
  {
   "cell_type": "code",
   "execution_count": 189,
   "metadata": {},
   "outputs": [
    {
     "data": {
      "text/plain": [
       "'Financial Analysis-------------------------------Total Months: 86Total: 38382578Average Change: -2315.12Greatest Increse in Profits:Feb-2012  ($1926159)Greatest Decrese in Profits:Sep-2013 ($-2196167)'"
      ]
     },
     "execution_count": 189,
     "metadata": {},
     "output_type": "execute_result"
    }
   ],
   "source": [
    "\n",
    "output = (\n",
    "    \"Financial Analysis\"\n",
    "    \"-------------------------------\"\n",
    "    f\"Total Months: {total_months}\"\n",
    "    f\"Total: {total_amount}\"\n",
    "    f\"Average Change: {round(total_change/(total_months-1),2)}\"\n",
    "    f\"Greatest Increse in Profits:{greatest_increase_month}  (${greatest_increase})\"\n",
    "    f\"Greatest Decrese in Profits:{greatest_decrease_month} (${greatest_decrease})\"\n",
    ")\n",
    "output"
   ]
  },
  {
   "cell_type": "code",
   "execution_count": 7,
   "metadata": {},
   "outputs": [
    {
     "data": {
      "text/plain": [
       "1"
      ]
     },
     "execution_count": 7,
     "metadata": {},
     "output_type": "execute_result"
    }
   ],
   "source": [
    "dic = {}\n",
    "dic[\"apple\"] = 1\n",
    "dic\n",
    "dic[\"apple\"]"
   ]
  },
  {
   "cell_type": "code",
   "execution_count": null,
   "metadata": {},
   "outputs": [],
   "source": []
  }
 ],
 "metadata": {
  "kernelspec": {
   "display_name": "Python 3",
   "language": "python",
   "name": "python3"
  },
  "language_info": {
   "codemirror_mode": {
    "name": "ipython",
    "version": 3
   },
   "file_extension": ".py",
   "mimetype": "text/x-python",
   "name": "python",
   "nbconvert_exporter": "python",
   "pygments_lexer": "ipython3",
   "version": "3.7.3"
  }
 },
 "nbformat": 4,
 "nbformat_minor": 2
}
